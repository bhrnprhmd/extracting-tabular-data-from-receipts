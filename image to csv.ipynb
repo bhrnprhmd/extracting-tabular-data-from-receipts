{
 "cells": [
  {
   "cell_type": "code",
   "execution_count": 1,
   "id": "612fd923",
   "metadata": {},
   "outputs": [],
   "source": [
    "from PIL import Image\n",
    "import pytesseract\n",
    "import numpy as np\n",
    "import pandas as pd\n",
    "import matplotlib.pyplot as plt\n",
    "import re"
   ]
  },
  {
   "cell_type": "code",
   "execution_count": 2,
   "id": "b09d707d",
   "metadata": {},
   "outputs": [],
   "source": [
    "# Please copy and paste the tesseract path here:\n",
    "pytesseract.pytesseract.tesseract_cmd = ''\n",
    "\n",
    "# Example:\n",
    "# pytesseract.pytesseract.tesseract_cmd = 'C:\\\\Program Files\\\\Tesseract-OCR\\\\tesseract.exe'\n"
   ]
  },
  {
   "cell_type": "code",
   "execution_count": 3,
   "id": "f654fcb0",
   "metadata": {},
   "outputs": [],
   "source": [
    "def img_to_csv(filename):\n",
    "    # Loading and pre-processing the input image\n",
    "    img = Image.open(filename)\n",
    "    img = img.convert('L', dither=Image.NONE)\n",
    "    \n",
    "    # Converting image to text data\n",
    "    custom_config = '-c preserve_interword_spaces=1'    \n",
    "    text = pytesseract.image_to_string(img, config=custom_config, lang='eng')\n",
    "\n",
    "    # Initializing the output dataframe\n",
    "    columns = ['Transaction_date', 'Pet_name', 'Description', 'Net_price', 'File_name']\n",
    "    output = pd.DataFrame(columns=columns)\n",
    "    Pet_name=''\n",
    "\n",
    "    # Parsing through each line\n",
    "    for line in text.split('\\n'):\n",
    "    \n",
    "        entry = line.split(' ') # Splitting the line into words\n",
    "        \n",
    "        if re.search(r'payment', line, flags=re.IGNORECASE):\n",
    "            break\n",
    "        \n",
    "        # Extracting the date and the price\n",
    "        if re.match(r'\\d+[-/]\\d+', entry[0]) and re.match(r'-?\\d+\\.\\d{2}', entry[-1]):\n",
    "            Transaction_date = entry[0]\n",
    "            Net_price = entry[-1]\n",
    "        \n",
    "            # Extracting the pet name\n",
    "            if entry[1]:\n",
    "                Pet_name = entry[1]\n",
    "        \n",
    "            # Extracting the description\n",
    "            line = line.replace(Transaction_date, '')\n",
    "            line = line.replace(Net_price, '')\n",
    "            line = line.replace(Pet_name, '')\n",
    "            line = re.sub(r'-?\\d+\\.\\d{2}','', line)\n",
    "            line = line.strip()\n",
    "            if re.match('\\d+', line[0]):\n",
    "                line = line.split(' ', 1)[1]\n",
    "            \n",
    "        \n",
    "            output = output.append({'Transaction_date': Transaction_date, 'Net_price': Net_price,\n",
    "                                    'Pet_name': Pet_name, 'File_name': filename, 'Description':line\n",
    "                                   }, ignore_index=True)\n",
    "        \n",
    "    \n",
    "    output.to_csv('~/Desktop/output.csv', index=False) # Saving the output as .csv file on desktop\n",
    "    return output"
   ]
  }
 ],
 "metadata": {
  "kernelspec": {
   "display_name": "Python 3",
   "language": "python",
   "name": "python3"
  },
  "language_info": {
   "codemirror_mode": {
    "name": "ipython",
    "version": 3
   },
   "file_extension": ".py",
   "mimetype": "text/x-python",
   "name": "python",
   "nbconvert_exporter": "python",
   "pygments_lexer": "ipython3",
   "version": "3.8.8"
  }
 },
 "nbformat": 4,
 "nbformat_minor": 5
}
